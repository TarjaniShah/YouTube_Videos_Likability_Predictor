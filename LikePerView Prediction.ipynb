{
 "cells": [
  {
   "cell_type": "markdown",
   "metadata": {
    "collapsed": true
   },
   "source": [
    "# REFERENCES:\n",
    "    https://towardsdatascience.com/youtube-views-predictor-9ec573090acb\n",
    "    https://github.com/allenwang28/YouTube-Virality-Predictor/blob/master/notebooks/Data%20Exploration%20-%20Time%20Based.ipynb:     cells 30,34,35,36,37,40,41,42,43,154,155,156,161,162,163,164"
   ]
  },
  {
   "cell_type": "code",
   "execution_count": 1,
   "metadata": {
    "collapsed": true
   },
   "outputs": [],
   "source": [
    "import pandas as pd\n",
    "import numpy as np\n",
    "import matplotlib as mpl\n",
    "import matplotlib.pyplot as plt\n",
    "import seaborn as sns\n",
    "\n",
    "% matplotlib inline"
   ]
  },
  {
   "cell_type": "code",
   "execution_count": 2,
   "metadata": {
    "collapsed": true
   },
   "outputs": [],
   "source": [
    "#Read excel\n",
    "df = pd.read_excel('FilteredVideoDetails.xlsx')"
   ]
  },
  {
   "cell_type": "code",
   "execution_count": 3,
   "metadata": {},
   "outputs": [
    {
     "data": {
      "text/html": [
       "<div>\n",
       "<style>\n",
       "    .dataframe thead tr:only-child th {\n",
       "        text-align: right;\n",
       "    }\n",
       "\n",
       "    .dataframe thead th {\n",
       "        text-align: left;\n",
       "    }\n",
       "\n",
       "    .dataframe tbody tr th {\n",
       "        vertical-align: top;\n",
       "    }\n",
       "</style>\n",
       "<table border=\"1\" class=\"dataframe\">\n",
       "  <thead>\n",
       "    <tr style=\"text-align: right;\">\n",
       "      <th></th>\n",
       "      <th>CategoryID</th>\n",
       "      <th>CHViewCount</th>\n",
       "      <th>CHSubscriberCount</th>\n",
       "      <th>CHAge</th>\n",
       "      <th>CHVideoCount</th>\n",
       "      <th>Duration</th>\n",
       "      <th>ViewCount</th>\n",
       "      <th>LikeCount</th>\n",
       "      <th>DislikeCount</th>\n",
       "      <th>FavouriteCount</th>\n",
       "      <th>...</th>\n",
       "      <th>PComments</th>\n",
       "      <th>PDislike</th>\n",
       "      <th>PFavorite</th>\n",
       "      <th>PLikePerView</th>\n",
       "      <th>AgeVideo</th>\n",
       "      <th>LogLikePerView</th>\n",
       "      <th>ViewDiff</th>\n",
       "      <th>ViewsPercentChange</th>\n",
       "      <th>TimeDiff</th>\n",
       "      <th>Daysdiff</th>\n",
       "    </tr>\n",
       "  </thead>\n",
       "  <tbody>\n",
       "    <tr>\n",
       "      <th>count</th>\n",
       "      <td>1410.000000</td>\n",
       "      <td>1.410000e+03</td>\n",
       "      <td>1.410000e+03</td>\n",
       "      <td>1410.000000</td>\n",
       "      <td>1410.000000</td>\n",
       "      <td>1410.000000</td>\n",
       "      <td>1410.000000</td>\n",
       "      <td>1410.000000</td>\n",
       "      <td>1410.000000</td>\n",
       "      <td>1410.0</td>\n",
       "      <td>...</td>\n",
       "      <td>1410.000000</td>\n",
       "      <td>1410.000000</td>\n",
       "      <td>1410.0</td>\n",
       "      <td>1410.000000</td>\n",
       "      <td>1410.000000</td>\n",
       "      <td>1410.000000</td>\n",
       "      <td>1.410000e+03</td>\n",
       "      <td>1410.000000</td>\n",
       "      <td>1410.000000</td>\n",
       "      <td>1410.000000</td>\n",
       "    </tr>\n",
       "    <tr>\n",
       "      <th>mean</th>\n",
       "      <td>22.226241</td>\n",
       "      <td>9.248270e+07</td>\n",
       "      <td>5.938399e+05</td>\n",
       "      <td>478.848936</td>\n",
       "      <td>252.937589</td>\n",
       "      <td>432.037589</td>\n",
       "      <td>45032.668085</td>\n",
       "      <td>1240.529787</td>\n",
       "      <td>42.590780</td>\n",
       "      <td>0.0</td>\n",
       "      <td>...</td>\n",
       "      <td>199.550355</td>\n",
       "      <td>89.082270</td>\n",
       "      <td>0.0</td>\n",
       "      <td>3.441052</td>\n",
       "      <td>147.493617</td>\n",
       "      <td>0.899074</td>\n",
       "      <td>-4.438520e+04</td>\n",
       "      <td>1.263867</td>\n",
       "      <td>8.554610</td>\n",
       "      <td>8.541844</td>\n",
       "    </tr>\n",
       "    <tr>\n",
       "      <th>std</th>\n",
       "      <td>4.852752</td>\n",
       "      <td>1.818622e+08</td>\n",
       "      <td>1.240150e+06</td>\n",
       "      <td>654.717114</td>\n",
       "      <td>176.788536</td>\n",
       "      <td>239.071769</td>\n",
       "      <td>65782.677637</td>\n",
       "      <td>2178.539286</td>\n",
       "      <td>85.901436</td>\n",
       "      <td>0.0</td>\n",
       "      <td>...</td>\n",
       "      <td>637.198548</td>\n",
       "      <td>417.020719</td>\n",
       "      <td>0.0</td>\n",
       "      <td>3.381827</td>\n",
       "      <td>120.034962</td>\n",
       "      <td>0.909349</td>\n",
       "      <td>2.146491e+05</td>\n",
       "      <td>9.825618</td>\n",
       "      <td>37.636492</td>\n",
       "      <td>37.558717</td>\n",
       "    </tr>\n",
       "    <tr>\n",
       "      <th>min</th>\n",
       "      <td>1.000000</td>\n",
       "      <td>3.386900e+04</td>\n",
       "      <td>0.000000e+00</td>\n",
       "      <td>16.000000</td>\n",
       "      <td>16.000000</td>\n",
       "      <td>15.000000</td>\n",
       "      <td>36.000000</td>\n",
       "      <td>1.000000</td>\n",
       "      <td>0.000000</td>\n",
       "      <td>0.0</td>\n",
       "      <td>...</td>\n",
       "      <td>0.000000</td>\n",
       "      <td>0.000000</td>\n",
       "      <td>0.0</td>\n",
       "      <td>0.000000</td>\n",
       "      <td>31.000000</td>\n",
       "      <td>-3.278002</td>\n",
       "      <td>-2.404876e+06</td>\n",
       "      <td>-0.997199</td>\n",
       "      <td>1.000000</td>\n",
       "      <td>1.000000</td>\n",
       "    </tr>\n",
       "    <tr>\n",
       "      <th>25%</th>\n",
       "      <td>22.000000</td>\n",
       "      <td>2.565808e+06</td>\n",
       "      <td>2.013800e+04</td>\n",
       "      <td>161.000000</td>\n",
       "      <td>88.000000</td>\n",
       "      <td>249.000000</td>\n",
       "      <td>2134.250000</td>\n",
       "      <td>46.000000</td>\n",
       "      <td>2.000000</td>\n",
       "      <td>0.0</td>\n",
       "      <td>...</td>\n",
       "      <td>11.000000</td>\n",
       "      <td>2.000000</td>\n",
       "      <td>0.0</td>\n",
       "      <td>1.343487</td>\n",
       "      <td>62.000000</td>\n",
       "      <td>0.355902</td>\n",
       "      <td>-1.439675e+04</td>\n",
       "      <td>-0.523526</td>\n",
       "      <td>2.000000</td>\n",
       "      <td>2.000000</td>\n",
       "    </tr>\n",
       "    <tr>\n",
       "      <th>50%</th>\n",
       "      <td>22.000000</td>\n",
       "      <td>1.487783e+07</td>\n",
       "      <td>6.880800e+04</td>\n",
       "      <td>276.000000</td>\n",
       "      <td>212.000000</td>\n",
       "      <td>393.000000</td>\n",
       "      <td>13776.500000</td>\n",
       "      <td>239.000000</td>\n",
       "      <td>13.000000</td>\n",
       "      <td>0.0</td>\n",
       "      <td>...</td>\n",
       "      <td>48.000000</td>\n",
       "      <td>13.000000</td>\n",
       "      <td>0.0</td>\n",
       "      <td>2.715267</td>\n",
       "      <td>108.500000</td>\n",
       "      <td>1.049323</td>\n",
       "      <td>-1.475000e+02</td>\n",
       "      <td>-0.086935</td>\n",
       "      <td>3.000000</td>\n",
       "      <td>3.000000</td>\n",
       "    </tr>\n",
       "    <tr>\n",
       "      <th>75%</th>\n",
       "      <td>26.000000</td>\n",
       "      <td>1.229979e+08</td>\n",
       "      <td>5.591230e+05</td>\n",
       "      <td>461.000000</td>\n",
       "      <td>395.000000</td>\n",
       "      <td>603.000000</td>\n",
       "      <td>58568.000000</td>\n",
       "      <td>1351.250000</td>\n",
       "      <td>48.000000</td>\n",
       "      <td>0.0</td>\n",
       "      <td>...</td>\n",
       "      <td>159.000000</td>\n",
       "      <td>55.250000</td>\n",
       "      <td>0.0</td>\n",
       "      <td>4.405900</td>\n",
       "      <td>184.000000</td>\n",
       "      <td>1.504796</td>\n",
       "      <td>3.708750e+03</td>\n",
       "      <td>0.690442</td>\n",
       "      <td>7.000000</td>\n",
       "      <td>7.000000</td>\n",
       "    </tr>\n",
       "    <tr>\n",
       "      <th>max</th>\n",
       "      <td>29.000000</td>\n",
       "      <td>9.856295e+08</td>\n",
       "      <td>7.004005e+06</td>\n",
       "      <td>5101.000000</td>\n",
       "      <td>629.000000</td>\n",
       "      <td>1202.000000</td>\n",
       "      <td>274262.000000</td>\n",
       "      <td>15752.000000</td>\n",
       "      <td>1090.000000</td>\n",
       "      <td>0.0</td>\n",
       "      <td>...</td>\n",
       "      <td>14535.000000</td>\n",
       "      <td>11411.000000</td>\n",
       "      <td>0.0</td>\n",
       "      <td>37.209302</td>\n",
       "      <td>604.000000</td>\n",
       "      <td>3.616559</td>\n",
       "      <td>2.563840e+05</td>\n",
       "      <td>288.760317</td>\n",
       "      <td>929.000000</td>\n",
       "      <td>928.000000</td>\n",
       "    </tr>\n",
       "  </tbody>\n",
       "</table>\n",
       "<p>8 rows × 30 columns</p>\n",
       "</div>"
      ],
      "text/plain": [
       "        CategoryID   CHViewCount  CHSubscriberCount        CHAge  \\\n",
       "count  1410.000000  1.410000e+03       1.410000e+03  1410.000000   \n",
       "mean     22.226241  9.248270e+07       5.938399e+05   478.848936   \n",
       "std       4.852752  1.818622e+08       1.240150e+06   654.717114   \n",
       "min       1.000000  3.386900e+04       0.000000e+00    16.000000   \n",
       "25%      22.000000  2.565808e+06       2.013800e+04   161.000000   \n",
       "50%      22.000000  1.487783e+07       6.880800e+04   276.000000   \n",
       "75%      26.000000  1.229979e+08       5.591230e+05   461.000000   \n",
       "max      29.000000  9.856295e+08       7.004005e+06  5101.000000   \n",
       "\n",
       "       CHVideoCount     Duration      ViewCount     LikeCount  DislikeCount  \\\n",
       "count   1410.000000  1410.000000    1410.000000   1410.000000   1410.000000   \n",
       "mean     252.937589   432.037589   45032.668085   1240.529787     42.590780   \n",
       "std      176.788536   239.071769   65782.677637   2178.539286     85.901436   \n",
       "min       16.000000    15.000000      36.000000      1.000000      0.000000   \n",
       "25%       88.000000   249.000000    2134.250000     46.000000      2.000000   \n",
       "50%      212.000000   393.000000   13776.500000    239.000000     13.000000   \n",
       "75%      395.000000   603.000000   58568.000000   1351.250000     48.000000   \n",
       "max      629.000000  1202.000000  274262.000000  15752.000000   1090.000000   \n",
       "\n",
       "       FavouriteCount     ...          PComments      PDislike  PFavorite  \\\n",
       "count          1410.0     ...        1410.000000   1410.000000     1410.0   \n",
       "mean              0.0     ...         199.550355     89.082270        0.0   \n",
       "std               0.0     ...         637.198548    417.020719        0.0   \n",
       "min               0.0     ...           0.000000      0.000000        0.0   \n",
       "25%               0.0     ...          11.000000      2.000000        0.0   \n",
       "50%               0.0     ...          48.000000     13.000000        0.0   \n",
       "75%               0.0     ...         159.000000     55.250000        0.0   \n",
       "max               0.0     ...       14535.000000  11411.000000        0.0   \n",
       "\n",
       "       PLikePerView     AgeVideo  LogLikePerView      ViewDiff  \\\n",
       "count   1410.000000  1410.000000     1410.000000  1.410000e+03   \n",
       "mean       3.441052   147.493617        0.899074 -4.438520e+04   \n",
       "std        3.381827   120.034962        0.909349  2.146491e+05   \n",
       "min        0.000000    31.000000       -3.278002 -2.404876e+06   \n",
       "25%        1.343487    62.000000        0.355902 -1.439675e+04   \n",
       "50%        2.715267   108.500000        1.049323 -1.475000e+02   \n",
       "75%        4.405900   184.000000        1.504796  3.708750e+03   \n",
       "max       37.209302   604.000000        3.616559  2.563840e+05   \n",
       "\n",
       "       ViewsPercentChange     TimeDiff     Daysdiff  \n",
       "count         1410.000000  1410.000000  1410.000000  \n",
       "mean             1.263867     8.554610     8.541844  \n",
       "std              9.825618    37.636492    37.558717  \n",
       "min             -0.997199     1.000000     1.000000  \n",
       "25%             -0.523526     2.000000     2.000000  \n",
       "50%             -0.086935     3.000000     3.000000  \n",
       "75%              0.690442     7.000000     7.000000  \n",
       "max            288.760317   929.000000   928.000000  \n",
       "\n",
       "[8 rows x 30 columns]"
      ]
     },
     "execution_count": 3,
     "metadata": {},
     "output_type": "execute_result"
    }
   ],
   "source": [
    "df.describe()"
   ]
  },
  {
   "cell_type": "code",
   "execution_count": 4,
   "metadata": {},
   "outputs": [
    {
     "data": {
      "text/plain": [
       "(1410, 43)"
      ]
     },
     "execution_count": 4,
     "metadata": {},
     "output_type": "execute_result"
    }
   ],
   "source": [
    "df.shape"
   ]
  },
  {
   "cell_type": "markdown",
   "metadata": {},
   "source": [
    "# Models"
   ]
  },
  {
   "cell_type": "markdown",
   "metadata": {},
   "source": [
    "# 1. Linear Regression"
   ]
  },
  {
   "cell_type": "code",
   "execution_count": 147,
   "metadata": {
    "collapsed": true
   },
   "outputs": [],
   "source": [
    "from sklearn.linear_model import LinearRegression"
   ]
  },
  {
   "cell_type": "code",
   "execution_count": 148,
   "metadata": {
    "collapsed": true
   },
   "outputs": [],
   "source": [
    "gbrcolumns = ['CHSubscriberCount','CHAge','PComments','PLikePerView','Duration','Comm_count_p2','AgeVideo']\n",
    "X_dfgrb = df[gbrcolumns]\n",
    "y_dfgrb = df['LikePerView']\n",
    "X_train, X_test, y_train, y_test = train_test_split(X_dfgrb, y_dfgrb, test_size=0.2,random_state=42)"
   ]
  },
  {
   "cell_type": "code",
   "execution_count": 149,
   "metadata": {},
   "outputs": [
    {
     "data": {
      "text/plain": [
       "0.45542761006708887"
      ]
     },
     "execution_count": 149,
     "metadata": {},
     "output_type": "execute_result"
    }
   ],
   "source": [
    "lm = LinearRegression()\n",
    "lm.fit(X_train, y_train)\n",
    "lm.score(X_test, y_test)"
   ]
  },
  {
   "cell_type": "markdown",
   "metadata": {},
   "source": [
    "Linear regression provides poor accuracy hence moving to ensemble models like GradientBoostingRegressor and RandomForestRegressor"
   ]
  },
  {
   "cell_type": "markdown",
   "metadata": {},
   "source": [
    "# 2. GradientBoostingRegressor"
   ]
  },
  {
   "cell_type": "markdown",
   "metadata": {},
   "source": [
    "Features include count of sentiment after 2 days of video being published"
   ]
  },
  {
   "cell_type": "code",
   "execution_count": 5,
   "metadata": {
    "collapsed": true
   },
   "outputs": [],
   "source": [
    "from sklearn.ensemble import GradientBoostingRegressor\n",
    "from sklearn.model_selection import train_test_split\n",
    "from sklearn.utils import shuffle\n",
    "from sklearn.metrics import mean_squared_error"
   ]
  },
  {
   "cell_type": "code",
   "execution_count": 150,
   "metadata": {
    "collapsed": true
   },
   "outputs": [],
   "source": [
    "#, 'CHVideoCount', 'CHViewCount'\n",
    "gbrcolumns = ['CHSubscriberCount','CHAge','PComments','PLikePerView','Duration','Comm_count_p2','AgeVideo']\n",
    "X_dfgrb = df[gbrcolumns]\n",
    "y_dfgrb = df['LikePerView']"
   ]
  },
  {
   "cell_type": "code",
   "execution_count": 151,
   "metadata": {},
   "outputs": [
    {
     "data": {
      "text/plain": [
       "GradientBoostingRegressor(alpha=0.9, criterion='friedman_mse', init=None,\n",
       "             learning_rate=0.01, loss='ls', max_depth=4, max_features=None,\n",
       "             max_leaf_nodes=None, min_impurity_split=1e-07,\n",
       "             min_samples_leaf=1, min_samples_split=2,\n",
       "             min_weight_fraction_leaf=0.0, n_estimators=1000,\n",
       "             presort='auto', random_state=42, subsample=1.0, verbose=0,\n",
       "             warm_start=False)"
      ]
     },
     "execution_count": 151,
     "metadata": {},
     "output_type": "execute_result"
    }
   ],
   "source": [
    "X_train, X_test, y_train, y_test = train_test_split(X_dfgrb, y_dfgrb, test_size=0.2,random_state=42)\n",
    "\n",
    "params = {'n_estimators': 1000, 'max_depth': 4, 'min_samples_split': 2,\n",
    "          'learning_rate': 0.01, 'loss': 'ls','random_state':42 }\n",
    "grbreg = GradientBoostingRegressor(**params)\n",
    "grbreg.fit(X_train, y_train)"
   ]
  },
  {
   "cell_type": "code",
   "execution_count": 152,
   "metadata": {},
   "outputs": [
    {
     "data": {
      "text/plain": [
       "0.58138903698098598"
      ]
     },
     "execution_count": 152,
     "metadata": {},
     "output_type": "execute_result"
    }
   ],
   "source": [
    "grbreg.score(X_test, y_test)"
   ]
  },
  {
   "cell_type": "code",
   "execution_count": 153,
   "metadata": {},
   "outputs": [
    {
     "name": "stdout",
     "output_type": "stream",
     "text": [
      "MSE: 4.3987\n"
     ]
    }
   ],
   "source": [
    "mse = mean_squared_error(y_test, grbreg.predict(X_test))\n",
    "print(\"MSE: %.4f\" % mse)"
   ]
  },
  {
   "cell_type": "markdown",
   "metadata": {},
   "source": [
    "Models gives an R^2 of 0.58 when it tries to predict LikePerView, this could be because LikePerView is not normally distributed.\n",
    "\n",
    "Hence using LogLikePerView as target variable"
   ]
  },
  {
   "cell_type": "code",
   "execution_count": 154,
   "metadata": {},
   "outputs": [
    {
     "data": {
      "text/plain": [
       "GradientBoostingRegressor(alpha=0.9, criterion='friedman_mse', init=None,\n",
       "             learning_rate=0.01, loss='ls', max_depth=4, max_features=None,\n",
       "             max_leaf_nodes=None, min_impurity_split=1e-07,\n",
       "             min_samples_leaf=1, min_samples_split=2,\n",
       "             min_weight_fraction_leaf=0.0, n_estimators=1000,\n",
       "             presort='auto', random_state=42, subsample=1.0, verbose=0,\n",
       "             warm_start=False)"
      ]
     },
     "execution_count": 154,
     "metadata": {},
     "output_type": "execute_result"
    }
   ],
   "source": [
    "y_dfgrb = df['LogLikePerView']\n",
    "X_train, X_test, y_train, y_test = train_test_split(X_dfgrb, y_dfgrb, test_size=0.2,random_state=42)\n",
    "\n",
    "params = {'n_estimators': 1000, 'max_depth': 4, 'min_samples_split': 2,\n",
    "          'learning_rate': 0.01, 'loss': 'ls','random_state':42 }\n",
    "grbreg = GradientBoostingRegressor(**params)\n",
    "grbreg.fit(X_train, y_train)"
   ]
  },
  {
   "cell_type": "code",
   "execution_count": 155,
   "metadata": {},
   "outputs": [
    {
     "data": {
      "text/plain": [
       "0.74882411399563831"
      ]
     },
     "execution_count": 155,
     "metadata": {},
     "output_type": "execute_result"
    }
   ],
   "source": [
    "grbreg.score(X_test, y_test)"
   ]
  },
  {
   "cell_type": "code",
   "execution_count": 156,
   "metadata": {},
   "outputs": [
    {
     "name": "stdout",
     "output_type": "stream",
     "text": [
      "MSE: 0.1963\n"
     ]
    }
   ],
   "source": [
    "mse = mean_squared_error(y_test, grbreg.predict(X_test))\n",
    "print(\"MSE: %.4f\" % mse)"
   ]
  },
  {
   "cell_type": "markdown",
   "metadata": {},
   "source": [
    "As it can be seen that by using LogLikePerView as target variable(normally distributed), the model performs much better"
   ]
  },
  {
   "cell_type": "markdown",
   "metadata": {},
   "source": [
    "Features include count of sentiment after 7 days of video being published"
   ]
  },
  {
   "cell_type": "code",
   "execution_count": 157,
   "metadata": {
    "collapsed": true
   },
   "outputs": [],
   "source": [
    "gbrcolumns7 = ['CHSubscriberCount','CHAge','PComments','PLikePerView','Duration','Comm_count_p7','AgeVideo']\n",
    "X_dfgrb7 = df[gbrcolumns7]\n",
    "y_dfgrb7 = df['LogLikePerView']"
   ]
  },
  {
   "cell_type": "code",
   "execution_count": 158,
   "metadata": {},
   "outputs": [
    {
     "data": {
      "text/plain": [
       "GradientBoostingRegressor(alpha=0.9, criterion='friedman_mse', init=None,\n",
       "             learning_rate=0.01, loss='ls', max_depth=4, max_features=None,\n",
       "             max_leaf_nodes=None, min_impurity_split=1e-07,\n",
       "             min_samples_leaf=1, min_samples_split=2,\n",
       "             min_weight_fraction_leaf=0.0, n_estimators=1000,\n",
       "             presort='auto', random_state=42, subsample=1.0, verbose=0,\n",
       "             warm_start=False)"
      ]
     },
     "execution_count": 158,
     "metadata": {},
     "output_type": "execute_result"
    }
   ],
   "source": [
    "X_train, X_test, y_train, y_test = train_test_split(X_dfgrb7, y_dfgrb7, test_size=0.2,random_state=42)\n",
    "params = {'n_estimators': 1000, 'max_depth': 4, 'min_samples_split': 2,\n",
    "          'learning_rate': 0.01, 'loss': 'ls','random_state':42 }    \n",
    "grb7reg = GradientBoostingRegressor(**params)\n",
    "grb7reg.fit(X_train, y_train)"
   ]
  },
  {
   "cell_type": "code",
   "execution_count": 159,
   "metadata": {},
   "outputs": [
    {
     "data": {
      "text/plain": [
       "0.77198822520475685"
      ]
     },
     "execution_count": 159,
     "metadata": {},
     "output_type": "execute_result"
    }
   ],
   "source": [
    "grb7reg.score(X_test, y_test)"
   ]
  },
  {
   "cell_type": "code",
   "execution_count": 160,
   "metadata": {},
   "outputs": [
    {
     "name": "stdout",
     "output_type": "stream",
     "text": [
      "MSE: 0.1782\n"
     ]
    }
   ],
   "source": [
    "mse = mean_squared_error(y_test, grb7reg.predict(X_test))\n",
    "print(\"MSE: %.4f\" % mse)"
   ]
  },
  {
   "cell_type": "code",
   "execution_count": 161,
   "metadata": {},
   "outputs": [
    {
     "data": {
      "text/plain": [
       "<matplotlib.axes._subplots.AxesSubplot at 0x1abc7b1cef0>"
      ]
     },
     "execution_count": 161,
     "metadata": {},
     "output_type": "execute_result"
    },
    {
     "data": {
      "image/png": "[encoded data removed]",
      "text/plain": [
       "<matplotlib.figure.Figure at 0x1abc5a0f9e8>"
      ]
     },
     "metadata": {},
     "output_type": "display_data"
    }
   ],
   "source": [
    "y_predgrb = grb7reg.predict(X_test)\n",
    "residuals = y_predgrb - y_test\n",
    "\n",
    "sns.distplot(residuals)"
   ]
  },
  {
   "cell_type": "code",
   "execution_count": 162,
   "metadata": {},
   "outputs": [
    {
     "data": {
      "text/plain": [
       "<matplotlib.axes._subplots.AxesSubplot at 0x1abc7bdd588>"
      ]
     },
     "execution_count": 162,
     "metadata": {},
     "output_type": "execute_result"
    },
    {
     "data": {
      "image/png": "[encoded data removed]",
      "text/plain": [
       "<matplotlib.figure.Figure at 0x1abc7bf2e48>"
      ]
     },
     "metadata": {},
     "output_type": "display_data"
    }
   ],
   "source": [
    "plot_df = pd.DataFrame(y_predgrb, columns=['Predictions'])\n",
    "plot_df['True'] = np.array(y_test)\n",
    "sns.regplot(x='Predictions', y='True', data=plot_df)"
   ]
  },
  {
   "cell_type": "code",
   "execution_count": 163,
   "metadata": {},
   "outputs": [
    {
     "data": {
      "text/plain": [
       "<matplotlib.axes._subplots.AxesSubplot at 0x1abc7c9c588>"
      ]
     },
     "execution_count": 163,
     "metadata": {},
     "output_type": "execute_result"
    },
    {
     "data": {
      "image/png": "[encoded data removed]",
      "text/plain": [
       "<matplotlib.figure.Figure at 0x1abc7c9c550>"
      ]
     },
     "metadata": {},
     "output_type": "display_data"
    }
   ],
   "source": [
    "sns.set_style('whitegrid')\n",
    "plt.figure(figsize=(10,12))\n",
    "sns.barplot(x=grb7reg.feature_importances_, y=gbrcolumns7)"
   ]
  },
  {
   "cell_type": "code",
   "execution_count": 164,
   "metadata": {},
   "outputs": [
    {
     "name": "stdout",
     "output_type": "stream",
     "text": [
      "0.615972077127708 +- 0.004716243332288276\n"
     ]
    }
   ],
   "source": [
    "from sklearn.model_selection import cross_val_score\n",
    "cv1 = cross_val_score(grb7reg, X_dfgrb7, y_dfgrb7, scoring='neg_mean_squared_error',cv=5)\n",
    "cv1 = np.sqrt(-cv1)\n",
    "print(\"{0} +- {1}\".format(cv1.mean(), cv1.var()))"
   ]
  },
  {
   "cell_type": "markdown",
   "metadata": {},
   "source": [
    "# 3. XGBRegressor Model\n",
    "Considering comment count in 7 day"
   ]
  },
  {
   "cell_type": "code",
   "execution_count": null,
   "metadata": {
    "collapsed": true
   },
   "outputs": [],
   "source": [
    "from xgboost import XGBRegressor"
   ]
  },
  {
   "cell_type": "code",
   "execution_count": 129,
   "metadata": {},
   "outputs": [
    {
     "data": {
      "text/plain": [
       "0.76686854702261253"
      ]
     },
     "execution_count": 129,
     "metadata": {},
     "output_type": "execute_result"
    }
   ],
   "source": [
    "params = {'n_estimators': 1000, 'max_depth': 4,'learning_rate': 0.01}\n",
    "xgb = XGBRegressor(**params)\n",
    "xgb.fit(X_train, y_train)\n",
    "xgb.score(X_test, y_test)"
   ]
  },
  {
   "cell_type": "code",
   "execution_count": 130,
   "metadata": {},
   "outputs": [
    {
     "data": {
      "text/plain": [
       "<matplotlib.axes._subplots.AxesSubplot at 0x1abc221f080>"
      ]
     },
     "execution_count": 130,
     "metadata": {},
     "output_type": "execute_result"
    },
    {
     "data": {
      "image/png": "[encoded data removed]",
      "text/plain": [
       "<matplotlib.figure.Figure at 0x1abc1aa4ef0>"
      ]
     },
     "metadata": {},
     "output_type": "display_data"
    }
   ],
   "source": [
    "y_pred = xgb.predict(X_test)\n",
    "plot_df = pd.DataFrame(y_pred, columns=['Predictions'])\n",
    "plot_df['True'] = np.array(y_test)\n",
    "sns.regplot(x='Predictions', y='True', data=plot_df)"
   ]
  },
  {
   "cell_type": "code",
   "execution_count": 131,
   "metadata": {},
   "outputs": [
    {
     "data": {
      "text/plain": [
       "<matplotlib.axes._subplots.AxesSubplot at 0x1abc53f7518>"
      ]
     },
     "execution_count": 131,
     "metadata": {},
     "output_type": "execute_result"
    },
    {
     "data": {
      "image/png": "[encoded data removed]",
      "text/plain": [
       "<matplotlib.figure.Figure at 0x1abc540ea58>"
      ]
     },
     "metadata": {},
     "output_type": "display_data"
    }
   ],
   "source": [
    "residuals = y_pred - y_test\n",
    "sns.distplot(residuals)"
   ]
  },
  {
   "cell_type": "code",
   "execution_count": 132,
   "metadata": {},
   "outputs": [
    {
     "name": "stdout",
     "output_type": "stream",
     "text": [
      "MSE: 0.1822\n"
     ]
    }
   ],
   "source": [
    "mse = mean_squared_error(y_test, xgb.predict(X_test))\n",
    "print(\"MSE: %.4f\" % mse)"
   ]
  },
  {
   "cell_type": "code",
   "execution_count": 133,
   "metadata": {},
   "outputs": [
    {
     "name": "stdout",
     "output_type": "stream",
     "text": [
      "0.6089669132473265 +- 0.004205611040925812\n"
     ]
    }
   ],
   "source": [
    "from sklearn.model_selection import cross_val_score\n",
    "cv1 = cross_val_score(xgb,X_dfgrb7, y_dfgrb7, scoring='neg_mean_squared_error',cv=5)\n",
    "cv1 = np.sqrt(-cv1)\n",
    "print(\"{0} +- {1}\".format(cv1.mean(), cv1.var()))"
   ]
  },
  {
   "cell_type": "markdown",
   "metadata": {},
   "source": [
    "# 4. Random Forest regressor"
   ]
  },
  {
   "cell_type": "code",
   "execution_count": 115,
   "metadata": {
    "collapsed": true
   },
   "outputs": [],
   "source": [
    "from sklearn.ensemble import RandomForestRegressor"
   ]
  },
  {
   "cell_type": "code",
   "execution_count": 125,
   "metadata": {},
   "outputs": [
    {
     "data": {
      "text/plain": [
       "0.78728254422146304"
      ]
     },
     "execution_count": 125,
     "metadata": {},
     "output_type": "execute_result"
    }
   ],
   "source": [
    "rm = RandomForestRegressor(n_estimators=500,random_state=42)\n",
    "rm.fit(X_train, y_train)\n",
    "rm.score(X_test, y_test)"
   ]
  },
  {
   "cell_type": "code",
   "execution_count": 124,
   "metadata": {},
   "outputs": [
    {
     "data": {
      "text/plain": [
       "<matplotlib.axes._subplots.AxesSubplot at 0x1abbf19b4e0>"
      ]
     },
     "execution_count": 124,
     "metadata": {},
     "output_type": "execute_result"
    },
    {
     "data": {
      "image/png": "[encoded data removed]",
      "text/plain": [
       "<matplotlib.figure.Figure at 0x1abc02ac6d8>"
      ]
     },
     "metadata": {},
     "output_type": "display_data"
    }
   ],
   "source": [
    "y_pred = rm.predict(X_test)\n",
    "plot_df = pd.DataFrame(y_pred, columns=['Predictions'])\n",
    "plot_df['True'] = np.array(y_test)\n",
    "sns.regplot(x='Predictions', y='True', data=plot_df)"
   ]
  },
  {
   "cell_type": "code",
   "execution_count": 118,
   "metadata": {},
   "outputs": [
    {
     "data": {
      "text/plain": [
       "<matplotlib.axes._subplots.AxesSubplot at 0x1abc1f6eb00>"
      ]
     },
     "execution_count": 118,
     "metadata": {},
     "output_type": "execute_result"
    },
    {
     "data": {
      "image/png": "[encoded data removed]",
      "text/plain": [
       "<matplotlib.figure.Figure at 0x1abc1c5c470>"
      ]
     },
     "metadata": {},
     "output_type": "display_data"
    }
   ],
   "source": [
    "residuals = y_pred - y_test\n",
    "\n",
    "sns.distplot(residuals)"
   ]
  },
  {
   "cell_type": "code",
   "execution_count": 119,
   "metadata": {},
   "outputs": [
    {
     "name": "stdout",
     "output_type": "stream",
     "text": [
      "MSE: 0.2067\n"
     ]
    }
   ],
   "source": [
    "mse = mean_squared_error(y_test, xgb.predict(X_test))\n",
    "print(\"MSE: %.4f\" % mse)"
   ]
  },
  {
   "cell_type": "code",
   "execution_count": 144,
   "metadata": {},
   "outputs": [
    {
     "name": "stdout",
     "output_type": "stream",
     "text": [
      "Model Performance\n",
      "Average Error: 0.2937 degrees.\n",
      "Accuracy = 62.93%.\n"
     ]
    },
    {
     "data": {
      "text/plain": [
       "62.93165319536295"
      ]
     },
     "execution_count": 144,
     "metadata": {},
     "output_type": "execute_result"
    }
   ],
   "source": [
    "evaluate(rm,X_test, y_test)"
   ]
  },
  {
   "cell_type": "markdown",
   "metadata": {},
   "source": [
    "# HYPER-PARAMETER TUNING - RandomForest\n",
    "Entire code below referenced from: https://towardsdatascience.com/hyperparameter-tuning-the-random-forest-in-python-using-scikit-learn-28d2aa77dd74"
   ]
  },
  {
   "cell_type": "code",
   "execution_count": 135,
   "metadata": {
    "collapsed": true
   },
   "outputs": [],
   "source": [
    "from sklearn.model_selection import RandomizedSearchCV\n",
    "# Number of trees in random forest\n",
    "n_estimators = [int(x) for x in np.linspace(start = 200, stop = 2000, num = 10)]\n",
    "# Number of features to consider at every split\n",
    "max_features = ['auto', 'sqrt']\n",
    "# Maximum number of levels in tree\n",
    "max_depth = [int(x) for x in np.linspace(10, 110, num = 11)]\n",
    "max_depth.append(None)\n",
    "# Minimum number of samples required to split a node\n",
    "min_samples_split = [2, 5, 10]\n",
    "# Minimum number of samples required at each leaf node\n",
    "min_samples_leaf = [1, 2, 4]\n",
    "# Method of selecting samples for training each tree\n",
    "bootstrap = [True, False]\n",
    "# Create the random grid\n",
    "random_grid = {'n_estimators': n_estimators,\n",
    "               'max_features': max_features,\n",
    "               'max_depth': max_depth,\n",
    "               'min_samples_split': min_samples_split,\n",
    "               'min_samples_leaf': min_samples_leaf,\n",
    "               'bootstrap': bootstrap}"
   ]
  },
  {
   "cell_type": "code",
   "execution_count": 136,
   "metadata": {},
   "outputs": [
    {
     "name": "stdout",
     "output_type": "stream",
     "text": [
      "Fitting 3 folds for each of 100 candidates, totalling 300 fits\n"
     ]
    },
    {
     "name": "stderr",
     "output_type": "stream",
     "text": [
      "[Parallel(n_jobs=-1)]: Done  33 tasks      | elapsed:  1.1min\n",
      "[Parallel(n_jobs=-1)]: Done 154 tasks      | elapsed:  4.8min\n",
      "[Parallel(n_jobs=-1)]: Done 300 out of 300 | elapsed:  9.3min finished\n"
     ]
    },
    {
     "data": {
      "text/plain": [
       "RandomizedSearchCV(cv=3, error_score='raise',\n",
       "          estimator=RandomForestRegressor(bootstrap=True, criterion='mse', max_depth=None,\n",
       "           max_features='auto', max_leaf_nodes=None,\n",
       "           min_impurity_split=1e-07, min_samples_leaf=1,\n",
       "           min_samples_split=2, min_weight_fraction_leaf=0.0,\n",
       "           n_estimators=500, n_jobs=1, oob_score=False, random_state=42,\n",
       "           verbose=0, warm_start=False),\n",
       "          fit_params={}, iid=True, n_iter=100, n_jobs=-1,\n",
       "          param_distributions={'n_estimators': [200, 400, 600, 800, 1000, 1200, 1400, 1600, 1800, 2000], 'max_features': ['auto', 'sqrt'], 'max_depth': [10, 20, 30, 40, 50, 60, 70, 80, 90, 100, 110, None], 'min_samples_split': [2, 5, 10], 'min_samples_leaf': [1, 2, 4], 'bootstrap': [True, False]},\n",
       "          pre_dispatch='2*n_jobs', random_state=42, refit=True,\n",
       "          return_train_score=True, scoring=None, verbose=2)"
      ]
     },
     "execution_count": 136,
     "metadata": {},
     "output_type": "execute_result"
    }
   ],
   "source": [
    "# Use the random grid to search for best hyperparameters\n",
    "# Random search of parameters, using 3 fold cross validation, \n",
    "# search across 100 different combinations, and use all available cores\n",
    "rf_random = RandomizedSearchCV(estimator = rm, param_distributions = random_grid, n_iter = 100, cv = 3, verbose=2, random_state=42, n_jobs = -1)\n",
    "# Fit the random search model\n",
    "rf_random.fit(X_dfgrb7, y_dfgrb7)"
   ]
  },
  {
   "cell_type": "code",
   "execution_count": 138,
   "metadata": {
    "collapsed": true
   },
   "outputs": [],
   "source": [
    "def evaluate(model, test_features, test_labels):\n",
    "    predictions = model.predict(test_features)\n",
    "    errors = abs(predictions - test_labels)\n",
    "    mape = 100 * np.mean(errors / test_labels)\n",
    "    accuracy = 100 - mape\n",
    "    print('Model Performance')\n",
    "    print('Average Error: {:0.4f} degrees.'.format(np.mean(errors)))\n",
    "    print('Accuracy = {:0.2f}%.'.format(accuracy))\n",
    "    return accuracy"
   ]
  },
  {
   "cell_type": "code",
   "execution_count": 141,
   "metadata": {},
   "outputs": [
    {
     "name": "stdout",
     "output_type": "stream",
     "text": [
      "Model Performance\n",
      "Average Error: 0.2256 degrees.\n",
      "Accuracy = 84.35%.\n"
     ]
    }
   ],
   "source": [
    "best_random = rf_random.best_estimator_\n",
    "random_accuracy = evaluate(best_random, X_test, y_test)"
   ]
  },
  {
   "cell_type": "markdown",
   "metadata": {},
   "source": [
    "After using RandomizedSearchCV RandomForest gives an accuracy of 84.35% as compared to base RandomForest model with 63% accuracy\n",
    "this is because we have tuned the parameters and RandomizedSearchCV picks up parameters which would give best accuracy"
   ]
  },
  {
   "cell_type": "markdown",
   "metadata": {},
   "source": [
    "# Recommendation\n",
    "As seens from XGBoost the features which affect LikePerView includes Duration of the video. This is an obvious recommendation that if the video is of short duration and conveys more information, it will be liked by many people.\n",
    "\n",
    "Another one will be, to upload video from a famous Channel, that affects the likeability of the video."
   ]
  }
 ],
 "metadata": {
  "kernelspec": {
   "display_name": "Python 3",
   "language": "python",
   "name": "python3"
  },
  "language_info": {
   "codemirror_mode": {
    "name": "ipython",
    "version": 3
   },
   "file_extension": ".py",
   "mimetype": "text/x-python",
   "name": "python",
   "nbconvert_exporter": "python",
   "pygments_lexer": "ipython3",
   "version": "3.6.3"
  }
 },
 "nbformat": 4,
 "nbformat_minor": 2
}
